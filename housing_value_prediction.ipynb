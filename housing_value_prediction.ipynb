{
 "cells": [
  {
   "cell_type": "code",
   "execution_count": 1,
   "id": "f81a2ad1",
   "metadata": {},
   "outputs": [],
   "source": [
    "import seaborn as sns\n",
    "sns.set()"
   ]
  },
  {
   "cell_type": "code",
   "execution_count": 3,
   "id": "785b855c",
   "metadata": {
    "scrolled": true
   },
   "outputs": [
    {
     "name": "stdout",
     "output_type": "stream",
     "text": [
      "DataFrame shape: (17269, 19)\n"
     ]
    },
    {
     "data": {
      "text/html": [
       "<div>\n",
       "<style scoped>\n",
       "    .dataframe tbody tr th:only-of-type {\n",
       "        vertical-align: middle;\n",
       "    }\n",
       "\n",
       "    .dataframe tbody tr th {\n",
       "        vertical-align: top;\n",
       "    }\n",
       "\n",
       "    .dataframe thead th {\n",
       "        text-align: right;\n",
       "    }\n",
       "</style>\n",
       "<table border=\"1\" class=\"dataframe\">\n",
       "  <thead>\n",
       "    <tr style=\"text-align: right;\">\n",
       "      <th></th>\n",
       "      <th>date</th>\n",
       "      <th>price</th>\n",
       "      <th>bedrooms</th>\n",
       "      <th>bathrooms</th>\n",
       "      <th>sqft_living</th>\n",
       "      <th>sqft_lot</th>\n",
       "      <th>floors</th>\n",
       "      <th>waterfront</th>\n",
       "      <th>view</th>\n",
       "      <th>condition</th>\n",
       "      <th>grade</th>\n",
       "      <th>sqft_above</th>\n",
       "      <th>sqft_basement</th>\n",
       "      <th>yr_built</th>\n",
       "      <th>zipcode</th>\n",
       "      <th>lat</th>\n",
       "      <th>long</th>\n",
       "      <th>sqft_living15</th>\n",
       "      <th>sqft_lot15</th>\n",
       "    </tr>\n",
       "    <tr>\n",
       "      <th>id</th>\n",
       "      <th></th>\n",
       "      <th></th>\n",
       "      <th></th>\n",
       "      <th></th>\n",
       "      <th></th>\n",
       "      <th></th>\n",
       "      <th></th>\n",
       "      <th></th>\n",
       "      <th></th>\n",
       "      <th></th>\n",
       "      <th></th>\n",
       "      <th></th>\n",
       "      <th></th>\n",
       "      <th></th>\n",
       "      <th></th>\n",
       "      <th></th>\n",
       "      <th></th>\n",
       "      <th></th>\n",
       "      <th></th>\n",
       "    </tr>\n",
       "  </thead>\n",
       "  <tbody>\n",
       "    <tr>\n",
       "      <th>7129300520</th>\n",
       "      <td>20141013T000000</td>\n",
       "      <td>221900.0</td>\n",
       "      <td>3</td>\n",
       "      <td>1.00</td>\n",
       "      <td>1180</td>\n",
       "      <td>5650</td>\n",
       "      <td>1.0</td>\n",
       "      <td>0</td>\n",
       "      <td>0</td>\n",
       "      <td>3</td>\n",
       "      <td>7</td>\n",
       "      <td>1180</td>\n",
       "      <td>0</td>\n",
       "      <td>1955</td>\n",
       "      <td>98178</td>\n",
       "      <td>47.5112</td>\n",
       "      <td>-122.257</td>\n",
       "      <td>1340</td>\n",
       "      <td>5650</td>\n",
       "    </tr>\n",
       "    <tr>\n",
       "      <th>6414100192</th>\n",
       "      <td>20141209T000000</td>\n",
       "      <td>538000.0</td>\n",
       "      <td>3</td>\n",
       "      <td>2.25</td>\n",
       "      <td>2570</td>\n",
       "      <td>7242</td>\n",
       "      <td>2.0</td>\n",
       "      <td>0</td>\n",
       "      <td>0</td>\n",
       "      <td>3</td>\n",
       "      <td>7</td>\n",
       "      <td>2170</td>\n",
       "      <td>400</td>\n",
       "      <td>1951</td>\n",
       "      <td>98125</td>\n",
       "      <td>47.7210</td>\n",
       "      <td>-122.319</td>\n",
       "      <td>1690</td>\n",
       "      <td>7639</td>\n",
       "    </tr>\n",
       "    <tr>\n",
       "      <th>5631500400</th>\n",
       "      <td>20150225T000000</td>\n",
       "      <td>180000.0</td>\n",
       "      <td>2</td>\n",
       "      <td>1.00</td>\n",
       "      <td>770</td>\n",
       "      <td>10000</td>\n",
       "      <td>1.0</td>\n",
       "      <td>0</td>\n",
       "      <td>0</td>\n",
       "      <td>3</td>\n",
       "      <td>6</td>\n",
       "      <td>770</td>\n",
       "      <td>0</td>\n",
       "      <td>1933</td>\n",
       "      <td>98028</td>\n",
       "      <td>47.7379</td>\n",
       "      <td>-122.233</td>\n",
       "      <td>2720</td>\n",
       "      <td>8062</td>\n",
       "    </tr>\n",
       "    <tr>\n",
       "      <th>2487200875</th>\n",
       "      <td>20141209T000000</td>\n",
       "      <td>604000.0</td>\n",
       "      <td>4</td>\n",
       "      <td>3.00</td>\n",
       "      <td>1960</td>\n",
       "      <td>5000</td>\n",
       "      <td>1.0</td>\n",
       "      <td>0</td>\n",
       "      <td>0</td>\n",
       "      <td>5</td>\n",
       "      <td>7</td>\n",
       "      <td>1050</td>\n",
       "      <td>910</td>\n",
       "      <td>1965</td>\n",
       "      <td>98136</td>\n",
       "      <td>47.5208</td>\n",
       "      <td>-122.393</td>\n",
       "      <td>1360</td>\n",
       "      <td>5000</td>\n",
       "    </tr>\n",
       "    <tr>\n",
       "      <th>1954400510</th>\n",
       "      <td>20150218T000000</td>\n",
       "      <td>510000.0</td>\n",
       "      <td>3</td>\n",
       "      <td>2.00</td>\n",
       "      <td>1680</td>\n",
       "      <td>8080</td>\n",
       "      <td>1.0</td>\n",
       "      <td>0</td>\n",
       "      <td>0</td>\n",
       "      <td>3</td>\n",
       "      <td>8</td>\n",
       "      <td>1680</td>\n",
       "      <td>0</td>\n",
       "      <td>1987</td>\n",
       "      <td>98074</td>\n",
       "      <td>47.6168</td>\n",
       "      <td>-122.045</td>\n",
       "      <td>1800</td>\n",
       "      <td>7503</td>\n",
       "    </tr>\n",
       "  </tbody>\n",
       "</table>\n",
       "</div>"
      ],
      "text/plain": [
       "                       date     price  bedrooms  bathrooms  sqft_living  \\\n",
       "id                                                                        \n",
       "7129300520  20141013T000000  221900.0         3       1.00         1180   \n",
       "6414100192  20141209T000000  538000.0         3       2.25         2570   \n",
       "5631500400  20150225T000000  180000.0         2       1.00          770   \n",
       "2487200875  20141209T000000  604000.0         4       3.00         1960   \n",
       "1954400510  20150218T000000  510000.0         3       2.00         1680   \n",
       "\n",
       "            sqft_lot  floors  waterfront  view  condition  grade  sqft_above  \\\n",
       "id                                                                             \n",
       "7129300520      5650     1.0           0     0          3      7        1180   \n",
       "6414100192      7242     2.0           0     0          3      7        2170   \n",
       "5631500400     10000     1.0           0     0          3      6         770   \n",
       "2487200875      5000     1.0           0     0          5      7        1050   \n",
       "1954400510      8080     1.0           0     0          3      8        1680   \n",
       "\n",
       "            sqft_basement  yr_built  zipcode      lat     long  sqft_living15  \\\n",
       "id                                                                              \n",
       "7129300520              0      1955    98178  47.5112 -122.257           1340   \n",
       "6414100192            400      1951    98125  47.7210 -122.319           1690   \n",
       "5631500400              0      1933    98028  47.7379 -122.233           2720   \n",
       "2487200875            910      1965    98136  47.5208 -122.393           1360   \n",
       "1954400510              0      1987    98074  47.6168 -122.045           1800   \n",
       "\n",
       "            sqft_lot15  \n",
       "id                      \n",
       "7129300520        5650  \n",
       "6414100192        7639  \n",
       "5631500400        8062  \n",
       "2487200875        5000  \n",
       "1954400510        7503  "
      ]
     },
     "execution_count": 3,
     "metadata": {},
     "output_type": "execute_result"
    }
   ],
   "source": [
    "import pandas as pd\n",
    "\n",
    "housing_df = pd.read_csv(\"./king_county_housing_data.csv\", index_col=0)\n",
    "\n",
    "print('DataFrame shape:', housing_df.shape)\n",
    "housing_df.head()"
   ]
  },
  {
   "cell_type": "markdown",
   "id": "d535a4a2",
   "metadata": {},
   "source": [
    "### Load the pickle data dictionary file"
   ]
  },
  {
   "cell_type": "code",
   "execution_count": 5,
   "id": "5dd957cd",
   "metadata": {},
   "outputs": [
    {
     "data": {
      "text/plain": [
       "{'id': 'House identifier',\n",
       " 'date': 'Date house was sold',\n",
       " 'price': 'Price',\n",
       " 'bedrooms': 'Number of Bedrooms',\n",
       " 'bathrooms': 'Number of bathrooms',\n",
       " 'sqft_living': 'Square footage of the home',\n",
       " 'sqft_lot': 'Square footage of the lot',\n",
       " 'floors': 'Total floors (levels) in house',\n",
       " 'waterfront': 'Whether house has view to a waterfront',\n",
       " 'view': 'Number of times a house has been viewed',\n",
       " 'condition': 'How good the condition is ( Overall )',\n",
       " 'grade': 'Overall grade given to the housing unit',\n",
       " 'sqft_above': 'Square footage of house apart from basement',\n",
       " 'sqft_basement': 'Square footage of the basement',\n",
       " 'yr_built': 'Year Built',\n",
       " 'zipcode': 'Zip code',\n",
       " 'lat': 'Latitude coordinate',\n",
       " 'long': 'Longitude coordinate',\n",
       " 'sqft_living15': 'Living room area in 2015 (implies some renovations)',\n",
       " 'sqft_lot15': 'Lot size area in 2015 (implies some renovations)'}"
      ]
     },
     "execution_count": 5,
     "metadata": {},
     "output_type": "execute_result"
    }
   ],
   "source": [
    "import pickle\n",
    "\n",
    "with open('./king_county_housing_dict.pickle', 'rb') as f:\n",
    "    housing_dict = pickle.load(f)\n",
    "    \n",
    "housing_dict"
   ]
  },
  {
   "cell_type": "code",
   "execution_count": 6,
   "id": "34e50956",
   "metadata": {},
   "outputs": [
    {
     "data": {
      "text/html": [
       "<div>\n",
       "<style scoped>\n",
       "    .dataframe tbody tr th:only-of-type {\n",
       "        vertical-align: middle;\n",
       "    }\n",
       "\n",
       "    .dataframe tbody tr th {\n",
       "        vertical-align: top;\n",
       "    }\n",
       "\n",
       "    .dataframe thead th {\n",
       "        text-align: right;\n",
       "    }\n",
       "</style>\n",
       "<table border=\"1\" class=\"dataframe\">\n",
       "  <thead>\n",
       "    <tr style=\"text-align: right;\">\n",
       "      <th></th>\n",
       "      <th>bedrooms</th>\n",
       "      <th>bathrooms</th>\n",
       "      <th>sqft_living</th>\n",
       "      <th>sqft_lot</th>\n",
       "      <th>floors</th>\n",
       "      <th>waterfront</th>\n",
       "      <th>view</th>\n",
       "      <th>condition</th>\n",
       "      <th>grade</th>\n",
       "      <th>sqft_above</th>\n",
       "      <th>sqft_basement</th>\n",
       "      <th>yr_built</th>\n",
       "      <th>lat</th>\n",
       "      <th>long</th>\n",
       "      <th>sqft_living15</th>\n",
       "      <th>sqft_lot15</th>\n",
       "    </tr>\n",
       "    <tr>\n",
       "      <th>id</th>\n",
       "      <th></th>\n",
       "      <th></th>\n",
       "      <th></th>\n",
       "      <th></th>\n",
       "      <th></th>\n",
       "      <th></th>\n",
       "      <th></th>\n",
       "      <th></th>\n",
       "      <th></th>\n",
       "      <th></th>\n",
       "      <th></th>\n",
       "      <th></th>\n",
       "      <th></th>\n",
       "      <th></th>\n",
       "      <th></th>\n",
       "      <th></th>\n",
       "    </tr>\n",
       "  </thead>\n",
       "  <tbody>\n",
       "    <tr>\n",
       "      <th>7129300520</th>\n",
       "      <td>3</td>\n",
       "      <td>1.00</td>\n",
       "      <td>1180</td>\n",
       "      <td>5650</td>\n",
       "      <td>1.0</td>\n",
       "      <td>0</td>\n",
       "      <td>0</td>\n",
       "      <td>3</td>\n",
       "      <td>7</td>\n",
       "      <td>1180</td>\n",
       "      <td>0</td>\n",
       "      <td>1955</td>\n",
       "      <td>47.5112</td>\n",
       "      <td>-122.257</td>\n",
       "      <td>1340</td>\n",
       "      <td>5650</td>\n",
       "    </tr>\n",
       "    <tr>\n",
       "      <th>6414100192</th>\n",
       "      <td>3</td>\n",
       "      <td>2.25</td>\n",
       "      <td>2570</td>\n",
       "      <td>7242</td>\n",
       "      <td>2.0</td>\n",
       "      <td>0</td>\n",
       "      <td>0</td>\n",
       "      <td>3</td>\n",
       "      <td>7</td>\n",
       "      <td>2170</td>\n",
       "      <td>400</td>\n",
       "      <td>1951</td>\n",
       "      <td>47.7210</td>\n",
       "      <td>-122.319</td>\n",
       "      <td>1690</td>\n",
       "      <td>7639</td>\n",
       "    </tr>\n",
       "    <tr>\n",
       "      <th>5631500400</th>\n",
       "      <td>2</td>\n",
       "      <td>1.00</td>\n",
       "      <td>770</td>\n",
       "      <td>10000</td>\n",
       "      <td>1.0</td>\n",
       "      <td>0</td>\n",
       "      <td>0</td>\n",
       "      <td>3</td>\n",
       "      <td>6</td>\n",
       "      <td>770</td>\n",
       "      <td>0</td>\n",
       "      <td>1933</td>\n",
       "      <td>47.7379</td>\n",
       "      <td>-122.233</td>\n",
       "      <td>2720</td>\n",
       "      <td>8062</td>\n",
       "    </tr>\n",
       "    <tr>\n",
       "      <th>2487200875</th>\n",
       "      <td>4</td>\n",
       "      <td>3.00</td>\n",
       "      <td>1960</td>\n",
       "      <td>5000</td>\n",
       "      <td>1.0</td>\n",
       "      <td>0</td>\n",
       "      <td>0</td>\n",
       "      <td>5</td>\n",
       "      <td>7</td>\n",
       "      <td>1050</td>\n",
       "      <td>910</td>\n",
       "      <td>1965</td>\n",
       "      <td>47.5208</td>\n",
       "      <td>-122.393</td>\n",
       "      <td>1360</td>\n",
       "      <td>5000</td>\n",
       "    </tr>\n",
       "    <tr>\n",
       "      <th>1954400510</th>\n",
       "      <td>3</td>\n",
       "      <td>2.00</td>\n",
       "      <td>1680</td>\n",
       "      <td>8080</td>\n",
       "      <td>1.0</td>\n",
       "      <td>0</td>\n",
       "      <td>0</td>\n",
       "      <td>3</td>\n",
       "      <td>8</td>\n",
       "      <td>1680</td>\n",
       "      <td>0</td>\n",
       "      <td>1987</td>\n",
       "      <td>47.6168</td>\n",
       "      <td>-122.045</td>\n",
       "      <td>1800</td>\n",
       "      <td>7503</td>\n",
       "    </tr>\n",
       "  </tbody>\n",
       "</table>\n",
       "</div>"
      ],
      "text/plain": [
       "            bedrooms  bathrooms  sqft_living  sqft_lot  floors  waterfront  \\\n",
       "id                                                                           \n",
       "7129300520         3       1.00         1180      5650     1.0           0   \n",
       "6414100192         3       2.25         2570      7242     2.0           0   \n",
       "5631500400         2       1.00          770     10000     1.0           0   \n",
       "2487200875         4       3.00         1960      5000     1.0           0   \n",
       "1954400510         3       2.00         1680      8080     1.0           0   \n",
       "\n",
       "            view  condition  grade  sqft_above  sqft_basement  yr_built  \\\n",
       "id                                                                        \n",
       "7129300520     0          3      7        1180              0      1955   \n",
       "6414100192     0          3      7        2170            400      1951   \n",
       "5631500400     0          3      6         770              0      1933   \n",
       "2487200875     0          5      7        1050            910      1965   \n",
       "1954400510     0          3      8        1680              0      1987   \n",
       "\n",
       "                lat     long  sqft_living15  sqft_lot15  \n",
       "id                                                       \n",
       "7129300520  47.5112 -122.257           1340        5650  \n",
       "6414100192  47.7210 -122.319           1690        7639  \n",
       "5631500400  47.7379 -122.233           2720        8062  \n",
       "2487200875  47.5208 -122.393           1360        5000  \n",
       "1954400510  47.6168 -122.045           1800        7503  "
      ]
     },
     "execution_count": 6,
     "metadata": {},
     "output_type": "execute_result"
    }
   ],
   "source": [
    "X = housing_df.drop(columns=['date', 'zipcode', 'price'])\n",
    "X.head()"
   ]
  },
  {
   "cell_type": "code",
   "execution_count": 7,
   "id": "7ce4ca04",
   "metadata": {},
   "outputs": [
    {
     "data": {
      "text/plain": [
       "id\n",
       "7129300520    221900.0\n",
       "6414100192    538000.0\n",
       "5631500400    180000.0\n",
       "2487200875    604000.0\n",
       "1954400510    510000.0\n",
       "Name: price, dtype: float64"
      ]
     },
     "execution_count": 7,
     "metadata": {},
     "output_type": "execute_result"
    }
   ],
   "source": [
    "y = housing_df['price']\n",
    "y.head()"
   ]
  },
  {
   "cell_type": "markdown",
   "id": "336a4378",
   "metadata": {},
   "source": [
    "### Data Visualization"
   ]
  },
  {
   "cell_type": "code",
   "execution_count": 8,
   "id": "e3b5e564",
   "metadata": {},
   "outputs": [
    {
     "data": {
      "application/vnd.jupyter.widget-view+json": {
       "model_id": "21c7771bd6cd469398fff55fcb7f96f6",
       "version_major": 2,
       "version_minor": 0
      },
      "text/plain": [
       "interactive(children=(Dropdown(description='column', options=('bedrooms', 'bathrooms', 'sqft_living', 'sqft_lo…"
      ]
     },
     "metadata": {},
     "output_type": "display_data"
    }
   ],
   "source": [
    "import matplotlib.pyplot as plt\n",
    "from ipywidgets import widgets\n",
    "\n",
    "def scatter_plot(column):\n",
    "    plt.plot(X[column], y, 'k.')\n",
    "    plt.xlabel(housing_dict[column])\n",
    "    plt.ylabel('Home price')\n",
    "    plt.title('Home Price vs {}'.format(housing_dict[column]))\n",
    "\n",
    "widgets.interact(scatter_plot, column=X.columns);"
   ]
  },
  {
   "cell_type": "markdown",
   "id": "d34a0a8c",
   "metadata": {},
   "source": [
    "### Single Linear Regression Model"
   ]
  },
  {
   "cell_type": "markdown",
   "id": "8bf2f6f7",
   "metadata": {},
   "source": [
    "Train a single linear regression model to predict the home calue based on the living area square footage"
   ]
  },
  {
   "cell_type": "code",
   "execution_count": 9,
   "id": "7c9952f4",
   "metadata": {},
   "outputs": [
    {
     "data": {
      "text/html": [
       "<div>\n",
       "<style scoped>\n",
       "    .dataframe tbody tr th:only-of-type {\n",
       "        vertical-align: middle;\n",
       "    }\n",
       "\n",
       "    .dataframe tbody tr th {\n",
       "        vertical-align: top;\n",
       "    }\n",
       "\n",
       "    .dataframe thead th {\n",
       "        text-align: right;\n",
       "    }\n",
       "</style>\n",
       "<table border=\"1\" class=\"dataframe\">\n",
       "  <thead>\n",
       "    <tr style=\"text-align: right;\">\n",
       "      <th></th>\n",
       "      <th>sqft_living</th>\n",
       "    </tr>\n",
       "    <tr>\n",
       "      <th>id</th>\n",
       "      <th></th>\n",
       "    </tr>\n",
       "  </thead>\n",
       "  <tbody>\n",
       "    <tr>\n",
       "      <th>7129300520</th>\n",
       "      <td>1180</td>\n",
       "    </tr>\n",
       "    <tr>\n",
       "      <th>6414100192</th>\n",
       "      <td>2570</td>\n",
       "    </tr>\n",
       "    <tr>\n",
       "      <th>5631500400</th>\n",
       "      <td>770</td>\n",
       "    </tr>\n",
       "    <tr>\n",
       "      <th>2487200875</th>\n",
       "      <td>1960</td>\n",
       "    </tr>\n",
       "    <tr>\n",
       "      <th>1954400510</th>\n",
       "      <td>1680</td>\n",
       "    </tr>\n",
       "  </tbody>\n",
       "</table>\n",
       "</div>"
      ],
      "text/plain": [
       "            sqft_living\n",
       "id                     \n",
       "7129300520         1180\n",
       "6414100192         2570\n",
       "5631500400          770\n",
       "2487200875         1960\n",
       "1954400510         1680"
      ]
     },
     "execution_count": 9,
     "metadata": {},
     "output_type": "execute_result"
    }
   ],
   "source": [
    "X_sq_ft = X[['sqft_living']]\n",
    "X_sq_ft.head()"
   ]
  },
  {
   "cell_type": "code",
   "execution_count": 10,
   "id": "7b6432bf",
   "metadata": {},
   "outputs": [],
   "source": [
    "from sklearn.linear_model import LinearRegression\n",
    "\n",
    "lr = LinearRegression()\n",
    "\n",
    "sq_footage_model = lr.fit(X_sq_ft, y)"
   ]
  },
  {
   "cell_type": "code",
   "execution_count": 11,
   "id": "6d85af47",
   "metadata": {},
   "outputs": [],
   "source": [
    "y_predicted = lr.predict(X_sq_ft)"
   ]
  },
  {
   "cell_type": "markdown",
   "id": "e0a43b72",
   "metadata": {},
   "source": [
    "Visualization to compare the actual data vs trained model"
   ]
  },
  {
   "cell_type": "code",
   "execution_count": 12,
   "id": "a6c01a78",
   "metadata": {},
   "outputs": [
    {
     "data": {
      "image/png": "[encoded data removed]",
      "text/plain": [
       "<Figure size 432x288 with 1 Axes>"
      ]
     },
     "metadata": {},
     "output_type": "display_data"
    }
   ],
   "source": [
    "plt.plot(X_sq_ft, y, 'k.', label='data')\n",
    "plt.plot(X_sq_ft, y_predicted, 'r-', label='model')\n",
    "plt.xlabel('Living area square footage')\n",
    "plt.ylabel('Home price')\n",
    "plt.legend();"
   ]
  },
  {
   "cell_type": "markdown",
   "id": "b5a358f9",
   "metadata": {},
   "source": [
    "Evaluate Model Statistically"
   ]
  },
  {
   "cell_type": "code",
   "execution_count": 13,
   "id": "ae931966",
   "metadata": {},
   "outputs": [],
   "source": [
    "from sklearn import metrics"
   ]
  },
  {
   "cell_type": "code",
   "execution_count": 14,
   "id": "b59e44f5",
   "metadata": {},
   "outputs": [
    {
     "name": "stdout",
     "output_type": "stream",
     "text": [
      "Training mean squared error for square footage model:  68497393870.33039\n"
     ]
    }
   ],
   "source": [
    "sq_footage_mse = metrics.mean_squared_error(y, y_predicted)\n",
    "\n",
    "print('Training mean squared error for square footage model: ', sq_footage_mse)"
   ]
  },
  {
   "cell_type": "code",
   "execution_count": 15,
   "id": "da714aa4",
   "metadata": {},
   "outputs": [
    {
     "name": "stdout",
     "output_type": "stream",
     "text": [
      "Training R^2 for square footage model: 0.49402110730976634\n"
     ]
    }
   ],
   "source": [
    "sq_footage_r2 = metrics.r2_score(y, y_predicted)\n",
    "\n",
    "print('Training R^2 for square footage model:', sq_footage_r2)"
   ]
  },
  {
   "cell_type": "markdown",
   "id": "3b4fd2da",
   "metadata": {},
   "source": [
    "### Scaled model with pipeline"
   ]
  },
  {
   "cell_type": "markdown",
   "id": "a7d5c173",
   "metadata": {},
   "source": [
    "Build a linear regression model which predicts the home value based on living area square footage and number of bedrooms"
   ]
  },
  {
   "cell_type": "code",
   "execution_count": 16,
   "id": "02f61d64",
   "metadata": {},
   "outputs": [
    {
     "data": {
      "text/html": [
       "<div>\n",
       "<style scoped>\n",
       "    .dataframe tbody tr th:only-of-type {\n",
       "        vertical-align: middle;\n",
       "    }\n",
       "\n",
       "    .dataframe tbody tr th {\n",
       "        vertical-align: top;\n",
       "    }\n",
       "\n",
       "    .dataframe thead th {\n",
       "        text-align: right;\n",
       "    }\n",
       "</style>\n",
       "<table border=\"1\" class=\"dataframe\">\n",
       "  <thead>\n",
       "    <tr style=\"text-align: right;\">\n",
       "      <th></th>\n",
       "      <th>sqft_living</th>\n",
       "      <th>bedrooms</th>\n",
       "    </tr>\n",
       "    <tr>\n",
       "      <th>id</th>\n",
       "      <th></th>\n",
       "      <th></th>\n",
       "    </tr>\n",
       "  </thead>\n",
       "  <tbody>\n",
       "    <tr>\n",
       "      <th>7129300520</th>\n",
       "      <td>1180</td>\n",
       "      <td>3</td>\n",
       "    </tr>\n",
       "    <tr>\n",
       "      <th>6414100192</th>\n",
       "      <td>2570</td>\n",
       "      <td>3</td>\n",
       "    </tr>\n",
       "    <tr>\n",
       "      <th>5631500400</th>\n",
       "      <td>770</td>\n",
       "      <td>2</td>\n",
       "    </tr>\n",
       "    <tr>\n",
       "      <th>2487200875</th>\n",
       "      <td>1960</td>\n",
       "      <td>4</td>\n",
       "    </tr>\n",
       "    <tr>\n",
       "      <th>1954400510</th>\n",
       "      <td>1680</td>\n",
       "      <td>3</td>\n",
       "    </tr>\n",
       "  </tbody>\n",
       "</table>\n",
       "</div>"
      ],
      "text/plain": [
       "            sqft_living  bedrooms\n",
       "id                               \n",
       "7129300520         1180         3\n",
       "6414100192         2570         3\n",
       "5631500400          770         2\n",
       "2487200875         1960         4\n",
       "1954400510         1680         3"
      ]
     },
     "execution_count": 16,
     "metadata": {},
     "output_type": "execute_result"
    }
   ],
   "source": [
    "X_sq_ft_bedrooms = X[['sqft_living', 'bedrooms']]\n",
    "X_sq_ft_bedrooms.head()"
   ]
  },
  {
   "cell_type": "code",
   "execution_count": 17,
   "id": "2daef2f7",
   "metadata": {},
   "outputs": [
    {
     "data": {
      "image/png": "[encoded data removed]",
      "text/plain": [
       "<Figure size 432x288 with 1 Axes>"
      ]
     },
     "metadata": {},
     "output_type": "display_data"
    }
   ],
   "source": [
    "plt.plot(X_sq_ft_bedrooms['sqft_living'], X_sq_ft_bedrooms['bedrooms'], 'k.')\n",
    "\n",
    "plt.xlabel('Living area square footage')\n",
    "plt.ylabel('Number of bedrooms');"
   ]
  },
  {
   "cell_type": "markdown",
   "id": "f68d1516",
   "metadata": {},
   "source": [
    "### Feature Engineering - Scaling"
   ]
  },
  {
   "cell_type": "code",
   "execution_count": 18,
   "id": "cad61ce1",
   "metadata": {},
   "outputs": [],
   "source": [
    "from sklearn.preprocessing import StandardScaler"
   ]
  },
  {
   "cell_type": "code",
   "execution_count": 20,
   "id": "fcb3a473",
   "metadata": {},
   "outputs": [],
   "source": [
    "standard_scaler = StandardScaler()\n",
    "X_scaled = standard_scaler.fit_transform(X_sq_ft_bedrooms)"
   ]
  },
  {
   "cell_type": "code",
   "execution_count": 21,
   "id": "1aaf87b7",
   "metadata": {},
   "outputs": [
    {
     "data": {
      "image/png": "[encoded data removed]",
      "text/plain": [
       "<Figure size 432x288 with 1 Axes>"
      ]
     },
     "metadata": {},
     "output_type": "display_data"
    }
   ],
   "source": [
    "plt.plot(X_scaled[:, 0], X_scaled[:, 1], 'k.')\n",
    "\n",
    "plt.xlabel('Living area square footage SCALED')\n",
    "plt.ylabel('Number of bedrooms SCALED');"
   ]
  },
  {
   "cell_type": "code",
   "execution_count": 22,
   "id": "5eaef384",
   "metadata": {},
   "outputs": [],
   "source": [
    "from sklearn.pipeline import Pipeline\n",
    "\n",
    "pipe = Pipeline([(\"feature scaling\", StandardScaler()),\n",
    "                 (\"linear regression\", LinearRegression())])\n",
    "\n",
    "pipeline_predictor = pipe.fit(X_sq_ft_bedrooms, y)\n",
    "y_pred = pipeline_predictor.predict(X_sq_ft_bedrooms)"
   ]
  },
  {
   "cell_type": "markdown",
   "id": "e7d21422",
   "metadata": {},
   "source": [
    "Evaluate Model Statistically"
   ]
  },
  {
   "cell_type": "code",
   "execution_count": 23,
   "id": "aa175459",
   "metadata": {},
   "outputs": [
    {
     "name": "stdout",
     "output_type": "stream",
     "text": [
      "Training R^2 for scaled model: 0.5074181222218166\n"
     ]
    }
   ],
   "source": [
    "scaled_model_r2 = metrics.r2_score(y, y_pred)\n",
    "\n",
    "print('Training R^2 for scaled model:', scaled_model_r2)"
   ]
  },
  {
   "cell_type": "code",
   "execution_count": 25,
   "id": "93f1e372",
   "metadata": {},
   "outputs": [
    {
     "name": "stdout",
     "output_type": "stream",
     "text": [
      "Training mean squared error for scaled model:  66683759704.21271\n"
     ]
    }
   ],
   "source": [
    "scaled_model_mse = metrics.mean_squared_error(y, y_pred)\n",
    "\n",
    "print('Training mean squared error for scaled model: ', scaled_model_mse)"
   ]
  },
  {
   "cell_type": "markdown",
   "id": "e10933db",
   "metadata": {},
   "source": [
    "### Full Linear Regression Model"
   ]
  },
  {
   "cell_type": "markdown",
   "id": "9b94f8de",
   "metadata": {},
   "source": [
    "Create a linear model using all numerical features of the dataset."
   ]
  },
  {
   "cell_type": "code",
   "execution_count": 26,
   "id": "339bc22a",
   "metadata": {},
   "outputs": [
    {
     "data": {
      "text/html": [
       "<div>\n",
       "<style scoped>\n",
       "    .dataframe tbody tr th:only-of-type {\n",
       "        vertical-align: middle;\n",
       "    }\n",
       "\n",
       "    .dataframe tbody tr th {\n",
       "        vertical-align: top;\n",
       "    }\n",
       "\n",
       "    .dataframe thead th {\n",
       "        text-align: right;\n",
       "    }\n",
       "</style>\n",
       "<table border=\"1\" class=\"dataframe\">\n",
       "  <thead>\n",
       "    <tr style=\"text-align: right;\">\n",
       "      <th></th>\n",
       "      <th>bedrooms</th>\n",
       "      <th>bathrooms</th>\n",
       "      <th>sqft_living</th>\n",
       "      <th>sqft_lot</th>\n",
       "      <th>floors</th>\n",
       "      <th>waterfront</th>\n",
       "      <th>view</th>\n",
       "      <th>condition</th>\n",
       "      <th>grade</th>\n",
       "      <th>sqft_above</th>\n",
       "      <th>sqft_basement</th>\n",
       "      <th>yr_built</th>\n",
       "      <th>lat</th>\n",
       "      <th>long</th>\n",
       "      <th>sqft_living15</th>\n",
       "      <th>sqft_lot15</th>\n",
       "    </tr>\n",
       "    <tr>\n",
       "      <th>id</th>\n",
       "      <th></th>\n",
       "      <th></th>\n",
       "      <th></th>\n",
       "      <th></th>\n",
       "      <th></th>\n",
       "      <th></th>\n",
       "      <th></th>\n",
       "      <th></th>\n",
       "      <th></th>\n",
       "      <th></th>\n",
       "      <th></th>\n",
       "      <th></th>\n",
       "      <th></th>\n",
       "      <th></th>\n",
       "      <th></th>\n",
       "      <th></th>\n",
       "    </tr>\n",
       "  </thead>\n",
       "  <tbody>\n",
       "    <tr>\n",
       "      <th>7129300520</th>\n",
       "      <td>3</td>\n",
       "      <td>1.00</td>\n",
       "      <td>1180</td>\n",
       "      <td>5650</td>\n",
       "      <td>1.0</td>\n",
       "      <td>0</td>\n",
       "      <td>0</td>\n",
       "      <td>3</td>\n",
       "      <td>7</td>\n",
       "      <td>1180</td>\n",
       "      <td>0</td>\n",
       "      <td>1955</td>\n",
       "      <td>47.5112</td>\n",
       "      <td>-122.257</td>\n",
       "      <td>1340</td>\n",
       "      <td>5650</td>\n",
       "    </tr>\n",
       "    <tr>\n",
       "      <th>6414100192</th>\n",
       "      <td>3</td>\n",
       "      <td>2.25</td>\n",
       "      <td>2570</td>\n",
       "      <td>7242</td>\n",
       "      <td>2.0</td>\n",
       "      <td>0</td>\n",
       "      <td>0</td>\n",
       "      <td>3</td>\n",
       "      <td>7</td>\n",
       "      <td>2170</td>\n",
       "      <td>400</td>\n",
       "      <td>1951</td>\n",
       "      <td>47.7210</td>\n",
       "      <td>-122.319</td>\n",
       "      <td>1690</td>\n",
       "      <td>7639</td>\n",
       "    </tr>\n",
       "    <tr>\n",
       "      <th>5631500400</th>\n",
       "      <td>2</td>\n",
       "      <td>1.00</td>\n",
       "      <td>770</td>\n",
       "      <td>10000</td>\n",
       "      <td>1.0</td>\n",
       "      <td>0</td>\n",
       "      <td>0</td>\n",
       "      <td>3</td>\n",
       "      <td>6</td>\n",
       "      <td>770</td>\n",
       "      <td>0</td>\n",
       "      <td>1933</td>\n",
       "      <td>47.7379</td>\n",
       "      <td>-122.233</td>\n",
       "      <td>2720</td>\n",
       "      <td>8062</td>\n",
       "    </tr>\n",
       "    <tr>\n",
       "      <th>2487200875</th>\n",
       "      <td>4</td>\n",
       "      <td>3.00</td>\n",
       "      <td>1960</td>\n",
       "      <td>5000</td>\n",
       "      <td>1.0</td>\n",
       "      <td>0</td>\n",
       "      <td>0</td>\n",
       "      <td>5</td>\n",
       "      <td>7</td>\n",
       "      <td>1050</td>\n",
       "      <td>910</td>\n",
       "      <td>1965</td>\n",
       "      <td>47.5208</td>\n",
       "      <td>-122.393</td>\n",
       "      <td>1360</td>\n",
       "      <td>5000</td>\n",
       "    </tr>\n",
       "    <tr>\n",
       "      <th>1954400510</th>\n",
       "      <td>3</td>\n",
       "      <td>2.00</td>\n",
       "      <td>1680</td>\n",
       "      <td>8080</td>\n",
       "      <td>1.0</td>\n",
       "      <td>0</td>\n",
       "      <td>0</td>\n",
       "      <td>3</td>\n",
       "      <td>8</td>\n",
       "      <td>1680</td>\n",
       "      <td>0</td>\n",
       "      <td>1987</td>\n",
       "      <td>47.6168</td>\n",
       "      <td>-122.045</td>\n",
       "      <td>1800</td>\n",
       "      <td>7503</td>\n",
       "    </tr>\n",
       "  </tbody>\n",
       "</table>\n",
       "</div>"
      ],
      "text/plain": [
       "            bedrooms  bathrooms  sqft_living  sqft_lot  floors  waterfront  \\\n",
       "id                                                                           \n",
       "7129300520         3       1.00         1180      5650     1.0           0   \n",
       "6414100192         3       2.25         2570      7242     2.0           0   \n",
       "5631500400         2       1.00          770     10000     1.0           0   \n",
       "2487200875         4       3.00         1960      5000     1.0           0   \n",
       "1954400510         3       2.00         1680      8080     1.0           0   \n",
       "\n",
       "            view  condition  grade  sqft_above  sqft_basement  yr_built  \\\n",
       "id                                                                        \n",
       "7129300520     0          3      7        1180              0      1955   \n",
       "6414100192     0          3      7        2170            400      1951   \n",
       "5631500400     0          3      6         770              0      1933   \n",
       "2487200875     0          5      7        1050            910      1965   \n",
       "1954400510     0          3      8        1680              0      1987   \n",
       "\n",
       "                lat     long  sqft_living15  sqft_lot15  \n",
       "id                                                       \n",
       "7129300520  47.5112 -122.257           1340        5650  \n",
       "6414100192  47.7210 -122.319           1690        7639  \n",
       "5631500400  47.7379 -122.233           2720        8062  \n",
       "2487200875  47.5208 -122.393           1360        5000  \n",
       "1954400510  47.6168 -122.045           1800        7503  "
      ]
     },
     "execution_count": 26,
     "metadata": {},
     "output_type": "execute_result"
    }
   ],
   "source": [
    "X_full_model = housing_df.drop(columns=['date', 'zipcode', 'price'])\n",
    "X_full_model.head()"
   ]
  },
  {
   "cell_type": "code",
   "execution_count": 27,
   "id": "c5991d30",
   "metadata": {},
   "outputs": [],
   "source": [
    "lr_many_features = LinearRegression()\n",
    "\n",
    "full_model = lr_many_features.fit(X_full_model, y)\n",
    "\n",
    "y_pred1 = full_model.predict(X_full_model)"
   ]
  },
  {
   "cell_type": "markdown",
   "id": "6784dc28",
   "metadata": {},
   "source": [
    "Evaluate Model Statistically"
   ]
  },
  {
   "cell_type": "code",
   "execution_count": 28,
   "id": "6adfccb7",
   "metadata": {},
   "outputs": [
    {
     "name": "stdout",
     "output_type": "stream",
     "text": [
      "Training R^2 for full model: 0.6952633946485791\n"
     ]
    }
   ],
   "source": [
    "full_model_r2 = metrics.r2_score(y, y_pred1)\n",
    "\n",
    "print('Training R^2 for full model:', full_model_r2)"
   ]
  },
  {
   "cell_type": "markdown",
   "id": "200c4612",
   "metadata": {},
   "source": [
    "Display the equation for the linear model"
   ]
  },
  {
   "cell_type": "code",
   "execution_count": 29,
   "id": "6f600013",
   "metadata": {},
   "outputs": [
    {
     "name": "stdout",
     "output_type": "stream",
     "text": [
      "y_predicted_full_model = \n",
      "-33264.4013944409 * bedrooms\n",
      "  + 44801.55150281802 * bathrooms\n",
      "  + 111.36039454340641 * sqft_living\n",
      "  + 0.10954111021945241 * sqft_lot\n",
      "  + 1663.2396240544444 * floors\n",
      "  + 566775.5420651176 * waterfront\n",
      "  + 48536.9762583504 * view\n",
      "  + 26398.105612239076 * condition\n",
      "  + 98783.04209070872 * grade\n",
      "  + 69.19537875868744 * sqft_above\n",
      "  + 42.1650158729599 * sqft_basement\n",
      "  + -2652.2568040141987 * yr_built\n",
      "  + 556423.9509920526 * lat\n",
      "  + -108803.66663236279 * long\n",
      "  + 23.877985705386816 * sqft_living15\n",
      "  + -0.4044373491526081 * sqft_lot15\n",
      "  + -35252644.029572316\n"
     ]
    }
   ],
   "source": [
    "print('y_predicted_full_model = \\n' +\n",
    "      '\\n  + '.join(['{} * {}'.format(val, col) for val, col in list(zip(full_model.coef_, X_full_model.columns))])\n",
    "      +'\\n  + {}'.format(full_model.intercept_))"
   ]
  },
  {
   "cell_type": "markdown",
   "id": "f23c312a",
   "metadata": {},
   "source": [
    "### Polynomial model"
   ]
  },
  {
   "cell_type": "markdown",
   "id": "16eb0381",
   "metadata": {},
   "source": [
    "Some features from the data seem to have non-linear behavior. We will use PolynomialFeatures transformer to generate the second degree versions of each of the features."
   ]
  },
  {
   "cell_type": "code",
   "execution_count": 30,
   "id": "10c96d44",
   "metadata": {},
   "outputs": [
    {
     "data": {
      "text/html": [
       "<div>\n",
       "<style scoped>\n",
       "    .dataframe tbody tr th:only-of-type {\n",
       "        vertical-align: middle;\n",
       "    }\n",
       "\n",
       "    .dataframe tbody tr th {\n",
       "        vertical-align: top;\n",
       "    }\n",
       "\n",
       "    .dataframe thead th {\n",
       "        text-align: right;\n",
       "    }\n",
       "</style>\n",
       "<table border=\"1\" class=\"dataframe\">\n",
       "  <thead>\n",
       "    <tr style=\"text-align: right;\">\n",
       "      <th></th>\n",
       "      <th>bedrooms</th>\n",
       "      <th>bathrooms</th>\n",
       "      <th>sqft_living</th>\n",
       "      <th>sqft_lot</th>\n",
       "      <th>floors</th>\n",
       "      <th>waterfront</th>\n",
       "      <th>view</th>\n",
       "      <th>condition</th>\n",
       "      <th>grade</th>\n",
       "      <th>sqft_above</th>\n",
       "      <th>sqft_basement</th>\n",
       "      <th>yr_built</th>\n",
       "      <th>lat</th>\n",
       "      <th>long</th>\n",
       "      <th>sqft_living15</th>\n",
       "      <th>sqft_lot15</th>\n",
       "    </tr>\n",
       "    <tr>\n",
       "      <th>id</th>\n",
       "      <th></th>\n",
       "      <th></th>\n",
       "      <th></th>\n",
       "      <th></th>\n",
       "      <th></th>\n",
       "      <th></th>\n",
       "      <th></th>\n",
       "      <th></th>\n",
       "      <th></th>\n",
       "      <th></th>\n",
       "      <th></th>\n",
       "      <th></th>\n",
       "      <th></th>\n",
       "      <th></th>\n",
       "      <th></th>\n",
       "      <th></th>\n",
       "    </tr>\n",
       "  </thead>\n",
       "  <tbody>\n",
       "    <tr>\n",
       "      <th>7129300520</th>\n",
       "      <td>3</td>\n",
       "      <td>1.00</td>\n",
       "      <td>1180</td>\n",
       "      <td>5650</td>\n",
       "      <td>1.0</td>\n",
       "      <td>0</td>\n",
       "      <td>0</td>\n",
       "      <td>3</td>\n",
       "      <td>7</td>\n",
       "      <td>1180</td>\n",
       "      <td>0</td>\n",
       "      <td>1955</td>\n",
       "      <td>47.5112</td>\n",
       "      <td>-122.257</td>\n",
       "      <td>1340</td>\n",
       "      <td>5650</td>\n",
       "    </tr>\n",
       "    <tr>\n",
       "      <th>6414100192</th>\n",
       "      <td>3</td>\n",
       "      <td>2.25</td>\n",
       "      <td>2570</td>\n",
       "      <td>7242</td>\n",
       "      <td>2.0</td>\n",
       "      <td>0</td>\n",
       "      <td>0</td>\n",
       "      <td>3</td>\n",
       "      <td>7</td>\n",
       "      <td>2170</td>\n",
       "      <td>400</td>\n",
       "      <td>1951</td>\n",
       "      <td>47.7210</td>\n",
       "      <td>-122.319</td>\n",
       "      <td>1690</td>\n",
       "      <td>7639</td>\n",
       "    </tr>\n",
       "    <tr>\n",
       "      <th>5631500400</th>\n",
       "      <td>2</td>\n",
       "      <td>1.00</td>\n",
       "      <td>770</td>\n",
       "      <td>10000</td>\n",
       "      <td>1.0</td>\n",
       "      <td>0</td>\n",
       "      <td>0</td>\n",
       "      <td>3</td>\n",
       "      <td>6</td>\n",
       "      <td>770</td>\n",
       "      <td>0</td>\n",
       "      <td>1933</td>\n",
       "      <td>47.7379</td>\n",
       "      <td>-122.233</td>\n",
       "      <td>2720</td>\n",
       "      <td>8062</td>\n",
       "    </tr>\n",
       "    <tr>\n",
       "      <th>2487200875</th>\n",
       "      <td>4</td>\n",
       "      <td>3.00</td>\n",
       "      <td>1960</td>\n",
       "      <td>5000</td>\n",
       "      <td>1.0</td>\n",
       "      <td>0</td>\n",
       "      <td>0</td>\n",
       "      <td>5</td>\n",
       "      <td>7</td>\n",
       "      <td>1050</td>\n",
       "      <td>910</td>\n",
       "      <td>1965</td>\n",
       "      <td>47.5208</td>\n",
       "      <td>-122.393</td>\n",
       "      <td>1360</td>\n",
       "      <td>5000</td>\n",
       "    </tr>\n",
       "    <tr>\n",
       "      <th>1954400510</th>\n",
       "      <td>3</td>\n",
       "      <td>2.00</td>\n",
       "      <td>1680</td>\n",
       "      <td>8080</td>\n",
       "      <td>1.0</td>\n",
       "      <td>0</td>\n",
       "      <td>0</td>\n",
       "      <td>3</td>\n",
       "      <td>8</td>\n",
       "      <td>1680</td>\n",
       "      <td>0</td>\n",
       "      <td>1987</td>\n",
       "      <td>47.6168</td>\n",
       "      <td>-122.045</td>\n",
       "      <td>1800</td>\n",
       "      <td>7503</td>\n",
       "    </tr>\n",
       "  </tbody>\n",
       "</table>\n",
       "</div>"
      ],
      "text/plain": [
       "            bedrooms  bathrooms  sqft_living  sqft_lot  floors  waterfront  \\\n",
       "id                                                                           \n",
       "7129300520         3       1.00         1180      5650     1.0           0   \n",
       "6414100192         3       2.25         2570      7242     2.0           0   \n",
       "5631500400         2       1.00          770     10000     1.0           0   \n",
       "2487200875         4       3.00         1960      5000     1.0           0   \n",
       "1954400510         3       2.00         1680      8080     1.0           0   \n",
       "\n",
       "            view  condition  grade  sqft_above  sqft_basement  yr_built  \\\n",
       "id                                                                        \n",
       "7129300520     0          3      7        1180              0      1955   \n",
       "6414100192     0          3      7        2170            400      1951   \n",
       "5631500400     0          3      6         770              0      1933   \n",
       "2487200875     0          5      7        1050            910      1965   \n",
       "1954400510     0          3      8        1680              0      1987   \n",
       "\n",
       "                lat     long  sqft_living15  sqft_lot15  \n",
       "id                                                       \n",
       "7129300520  47.5112 -122.257           1340        5650  \n",
       "6414100192  47.7210 -122.319           1690        7639  \n",
       "5631500400  47.7379 -122.233           2720        8062  \n",
       "2487200875  47.5208 -122.393           1360        5000  \n",
       "1954400510  47.6168 -122.045           1800        7503  "
      ]
     },
     "execution_count": 30,
     "metadata": {},
     "output_type": "execute_result"
    }
   ],
   "source": [
    "X_full_model.head()"
   ]
  },
  {
   "cell_type": "code",
   "execution_count": 31,
   "id": "e129887b",
   "metadata": {},
   "outputs": [],
   "source": [
    "# Import PolynomialFeatures\n",
    "from sklearn.preprocessing import PolynomialFeatures\n",
    "\n",
    "# Create the transformer\n",
    "polynomial_transformer = PolynomialFeatures(2)"
   ]
  },
  {
   "cell_type": "code",
   "execution_count": 32,
   "id": "7be5634d",
   "metadata": {},
   "outputs": [],
   "source": [
    "X_transformed = polynomial_transformer.fit_transform(X_full_model)"
   ]
  },
  {
   "cell_type": "code",
   "execution_count": 36,
   "id": "b48146e8",
   "metadata": {},
   "outputs": [
    {
     "data": {
      "text/plain": [
       "(17269, 153)"
      ]
     },
     "execution_count": 36,
     "metadata": {},
     "output_type": "execute_result"
    }
   ],
   "source": [
    "X_transformed.shape # 153 columns now"
   ]
  },
  {
   "cell_type": "code",
   "execution_count": 33,
   "id": "615dda8b",
   "metadata": {},
   "outputs": [],
   "source": [
    "# Create the pipeline\n",
    "\n",
    "lr_poly = Pipeline([('standard_scaler', StandardScaler()),\n",
    "                    ('polynomial_trans', PolynomialFeatures(2)),\n",
    "                    ('lr', LinearRegression())])\n",
    "\n",
    "poly_pipeline = lr_poly.fit(X_full_model, y)\n",
    "\n",
    "y_pred2 = poly_pipeline.predict(X_full_model)"
   ]
  },
  {
   "cell_type": "markdown",
   "id": "4e32e085",
   "metadata": {},
   "source": [
    "Evaluate Model Statistically"
   ]
  },
  {
   "cell_type": "code",
   "execution_count": 34,
   "id": "d4e9d586",
   "metadata": {},
   "outputs": [
    {
     "name": "stdout",
     "output_type": "stream",
     "text": [
      "Training R^2 for polynomial ridge model: 0.8117941709559795\n"
     ]
    }
   ],
   "source": [
    "poly_model_r2 = metrics.r2_score(y, y_pred2)\n",
    "\n",
    "print('Training R^2 for polynomial ridge model:', poly_model_r2)"
   ]
  },
  {
   "cell_type": "markdown",
   "id": "a9fd4369",
   "metadata": {},
   "source": [
    "R^2 increases significantly to 81% after using the Polynomial model to predict the home value. It means 81% of the dependent variable 'home value' can be explained by all the indenpendent variables X_transformed. "
   ]
  },
  {
   "cell_type": "code",
   "execution_count": null,
   "id": "849716b3",
   "metadata": {},
   "outputs": [],
   "source": []
  }
 ],
 "metadata": {
  "kernelspec": {
   "display_name": "Python 3",
   "language": "python",
   "name": "python3"
  },
  "language_info": {
   "codemirror_mode": {
    "name": "ipython",
    "version": 3
   },
   "file_extension": ".py",
   "mimetype": "text/x-python",
   "name": "python",
   "nbconvert_exporter": "python",
   "pygments_lexer": "ipython3",
   "version": "3.8.8"
  }
 },
 "nbformat": 4,
 "nbformat_minor": 5
}
